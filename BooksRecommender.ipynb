{
 "cells": [
  {
   "cell_type": "code",
   "execution_count": 1,
   "id": "97d0d417-f4e5-421f-850f-1432e1e03d72",
   "metadata": {},
   "outputs": [
    {
     "name": "stdout",
     "output_type": "stream",
     "text": [
      "         ISBN                                         Book-Title  \\\n",
      "0  0195153448                                Classical Mythology   \n",
      "1  0002005018                                       Clara Callan   \n",
      "2  0060973129                               Decision in Normandy   \n",
      "3  0374157065  Flu: The Story of the Great Influenza Pandemic...   \n",
      "4  0393045218                             The Mummies of Urumchi   \n",
      "\n",
      "            Book-Author Year-Of-Publication                   Publisher  \\\n",
      "0    Mark P. O. Morford                2002     Oxford University Press   \n",
      "1  Richard Bruce Wright                2001       HarperFlamingo Canada   \n",
      "2          Carlo D'Este                1991             HarperPerennial   \n",
      "3      Gina Bari Kolata                1999        Farrar Straus Giroux   \n",
      "4       E. J. W. Barber                1999  W. W. Norton &amp; Company   \n",
      "\n",
      "                                         Image-URL-S  \\\n",
      "0  http://images.amazon.com/images/P/0195153448.0...   \n",
      "1  http://images.amazon.com/images/P/0002005018.0...   \n",
      "2  http://images.amazon.com/images/P/0060973129.0...   \n",
      "3  http://images.amazon.com/images/P/0374157065.0...   \n",
      "4  http://images.amazon.com/images/P/0393045218.0...   \n",
      "\n",
      "                                         Image-URL-M  \\\n",
      "0  http://images.amazon.com/images/P/0195153448.0...   \n",
      "1  http://images.amazon.com/images/P/0002005018.0...   \n",
      "2  http://images.amazon.com/images/P/0060973129.0...   \n",
      "3  http://images.amazon.com/images/P/0374157065.0...   \n",
      "4  http://images.amazon.com/images/P/0393045218.0...   \n",
      "\n",
      "                                         Image-URL-L  \n",
      "0  http://images.amazon.com/images/P/0195153448.0...  \n",
      "1  http://images.amazon.com/images/P/0002005018.0...  \n",
      "2  http://images.amazon.com/images/P/0060973129.0...  \n",
      "3  http://images.amazon.com/images/P/0374157065.0...  \n",
      "4  http://images.amazon.com/images/P/0393045218.0...  \n",
      "Shape of books: (271360, 8)\n"
     ]
    },
    {
     "name": "stderr",
     "output_type": "stream",
     "text": [
      "C:\\Users\\puong\\AppData\\Local\\Temp\\ipykernel_1964\\1386260944.py:8: DtypeWarning: Columns (3) have mixed types. Specify dtype option on import or set low_memory=False.\n",
      "  books = pd.read_csv('data/BX-Books.csv', sep=';', encoding='latin-1', on_bad_lines='skip')\n"
     ]
    }
   ],
   "source": [
    "# Importing necessary library\n",
    "import pandas as pd\n",
    "import numpy as np\n",
    "import matplotlib.pyplot as plt\n",
    "import seaborn as sns\n",
    "\n",
    "# Load dữ liệu\n",
    "books = pd.read_csv('data/BX-Books.csv', sep=';', encoding='latin-1', on_bad_lines='skip')\n",
    "\n",
    "# Kiểm tra dữ liệu\n",
    "print(books.head())\n",
    "print(\"Shape of books:\", books.shape)"
   ]
  },
  {
   "cell_type": "code",
   "execution_count": 2,
   "id": "78c80bc1-fa43-4079-9cff-efd5051745e7",
   "metadata": {},
   "outputs": [
    {
     "name": "stdout",
     "output_type": "stream",
     "text": [
      "Columns: ['ISBN', 'Book-Title', 'Book-Author', 'Year-Of-Publication', 'Publisher', 'Image-URL-S', 'Image-URL-M', 'Image-URL-L']\n"
     ]
    }
   ],
   "source": [
    "# Xem các cột hiện có\n",
    "print(\"Columns:\", books.columns.tolist())"
   ]
  },
  {
   "cell_type": "code",
   "execution_count": 3,
   "id": "d78954d4-29f1-41c8-bcbf-71d827fd4539",
   "metadata": {},
   "outputs": [
    {
     "data": {
      "text/html": [
       "<div>\n",
       "<style scoped>\n",
       "    .dataframe tbody tr th:only-of-type {\n",
       "        vertical-align: middle;\n",
       "    }\n",
       "\n",
       "    .dataframe tbody tr th {\n",
       "        vertical-align: top;\n",
       "    }\n",
       "\n",
       "    .dataframe thead th {\n",
       "        text-align: right;\n",
       "    }\n",
       "</style>\n",
       "<table border=\"1\" class=\"dataframe\">\n",
       "  <thead>\n",
       "    <tr style=\"text-align: right;\">\n",
       "      <th></th>\n",
       "      <th>ISBN</th>\n",
       "      <th>title</th>\n",
       "      <th>author</th>\n",
       "      <th>year</th>\n",
       "      <th>publisher</th>\n",
       "      <th>image_url</th>\n",
       "    </tr>\n",
       "  </thead>\n",
       "  <tbody>\n",
       "    <tr>\n",
       "      <th>0</th>\n",
       "      <td>0195153448</td>\n",
       "      <td>Classical Mythology</td>\n",
       "      <td>Mark P. O. Morford</td>\n",
       "      <td>2002</td>\n",
       "      <td>Oxford University Press</td>\n",
       "      <td>http://images.amazon.com/images/P/0195153448.0...</td>\n",
       "    </tr>\n",
       "    <tr>\n",
       "      <th>1</th>\n",
       "      <td>0002005018</td>\n",
       "      <td>Clara Callan</td>\n",
       "      <td>Richard Bruce Wright</td>\n",
       "      <td>2001</td>\n",
       "      <td>HarperFlamingo Canada</td>\n",
       "      <td>http://images.amazon.com/images/P/0002005018.0...</td>\n",
       "    </tr>\n",
       "    <tr>\n",
       "      <th>2</th>\n",
       "      <td>0060973129</td>\n",
       "      <td>Decision in Normandy</td>\n",
       "      <td>Carlo D'Este</td>\n",
       "      <td>1991</td>\n",
       "      <td>HarperPerennial</td>\n",
       "      <td>http://images.amazon.com/images/P/0060973129.0...</td>\n",
       "    </tr>\n",
       "    <tr>\n",
       "      <th>3</th>\n",
       "      <td>0374157065</td>\n",
       "      <td>Flu: The Story of the Great Influenza Pandemic...</td>\n",
       "      <td>Gina Bari Kolata</td>\n",
       "      <td>1999</td>\n",
       "      <td>Farrar Straus Giroux</td>\n",
       "      <td>http://images.amazon.com/images/P/0374157065.0...</td>\n",
       "    </tr>\n",
       "    <tr>\n",
       "      <th>4</th>\n",
       "      <td>0393045218</td>\n",
       "      <td>The Mummies of Urumchi</td>\n",
       "      <td>E. J. W. Barber</td>\n",
       "      <td>1999</td>\n",
       "      <td>W. W. Norton &amp;amp; Company</td>\n",
       "      <td>http://images.amazon.com/images/P/0393045218.0...</td>\n",
       "    </tr>\n",
       "  </tbody>\n",
       "</table>\n",
       "</div>"
      ],
      "text/plain": [
       "         ISBN                                              title  \\\n",
       "0  0195153448                                Classical Mythology   \n",
       "1  0002005018                                       Clara Callan   \n",
       "2  0060973129                               Decision in Normandy   \n",
       "3  0374157065  Flu: The Story of the Great Influenza Pandemic...   \n",
       "4  0393045218                             The Mummies of Urumchi   \n",
       "\n",
       "                 author  year                   publisher  \\\n",
       "0    Mark P. O. Morford  2002     Oxford University Press   \n",
       "1  Richard Bruce Wright  2001       HarperFlamingo Canada   \n",
       "2          Carlo D'Este  1991             HarperPerennial   \n",
       "3      Gina Bari Kolata  1999        Farrar Straus Giroux   \n",
       "4       E. J. W. Barber  1999  W. W. Norton &amp; Company   \n",
       "\n",
       "                                           image_url  \n",
       "0  http://images.amazon.com/images/P/0195153448.0...  \n",
       "1  http://images.amazon.com/images/P/0002005018.0...  \n",
       "2  http://images.amazon.com/images/P/0060973129.0...  \n",
       "3  http://images.amazon.com/images/P/0374157065.0...  \n",
       "4  http://images.amazon.com/images/P/0393045218.0...  "
      ]
     },
     "execution_count": 3,
     "metadata": {},
     "output_type": "execute_result"
    }
   ],
   "source": [
    "# Chọn các cột cần thiết\n",
    "books = books[['ISBN', 'Book-Title', 'Book-Author', 'Year-Of-Publication', 'Publisher', 'Image-URL-L']]\n",
    "\n",
    "# Đổi tên cột cho dễ dùng\n",
    "books.rename(columns={\n",
    "    'Book-Title': 'title',\n",
    "    'Book-Author': 'author',\n",
    "    'Year-Of-Publication': 'year',\n",
    "    'Publisher': 'publisher',\n",
    "    'Image-URL-L': 'image_url'\n",
    "}, inplace=True)\n",
    "\n",
    "books.head()"
   ]
  },
  {
   "cell_type": "code",
   "execution_count": 4,
   "id": "a842f747-7c8e-44ae-8d77-099ae4f31425",
   "metadata": {},
   "outputs": [
    {
     "name": "stdout",
     "output_type": "stream",
     "text": [
      "   User-ID                            Location   Age\n",
      "0        1                  nyc, new york, usa   NaN\n",
      "1        2           stockton, california, usa  18.0\n",
      "2        3     moscow, yukon territory, russia   NaN\n",
      "3        4           porto, v.n.gaia, portugal  17.0\n",
      "4        5  farnborough, hants, united kingdom   NaN\n",
      "Shape of users: (278858, 3)\n"
     ]
    }
   ],
   "source": [
    "# Load dataframe users\n",
    "users = pd.read_csv('data/BX-Users.csv', sep=';', encoding='latin-1', on_bad_lines='skip')\n",
    "\n",
    "# Kiểm tra dữ liệu\n",
    "print(users.head())\n",
    "print(\"Shape of users:\", users.shape)"
   ]
  },
  {
   "cell_type": "code",
   "execution_count": 5,
   "id": "b7af1df7-b953-4d07-9a52-cff0097d0c00",
   "metadata": {},
   "outputs": [
    {
     "data": {
      "text/html": [
       "<div>\n",
       "<style scoped>\n",
       "    .dataframe tbody tr th:only-of-type {\n",
       "        vertical-align: middle;\n",
       "    }\n",
       "\n",
       "    .dataframe tbody tr th {\n",
       "        vertical-align: top;\n",
       "    }\n",
       "\n",
       "    .dataframe thead th {\n",
       "        text-align: right;\n",
       "    }\n",
       "</style>\n",
       "<table border=\"1\" class=\"dataframe\">\n",
       "  <thead>\n",
       "    <tr style=\"text-align: right;\">\n",
       "      <th></th>\n",
       "      <th>user_id</th>\n",
       "      <th>location</th>\n",
       "      <th>age</th>\n",
       "    </tr>\n",
       "  </thead>\n",
       "  <tbody>\n",
       "    <tr>\n",
       "      <th>0</th>\n",
       "      <td>1</td>\n",
       "      <td>nyc, new york, usa</td>\n",
       "      <td>NaN</td>\n",
       "    </tr>\n",
       "    <tr>\n",
       "      <th>1</th>\n",
       "      <td>2</td>\n",
       "      <td>stockton, california, usa</td>\n",
       "      <td>18.0</td>\n",
       "    </tr>\n",
       "    <tr>\n",
       "      <th>2</th>\n",
       "      <td>3</td>\n",
       "      <td>moscow, yukon territory, russia</td>\n",
       "      <td>NaN</td>\n",
       "    </tr>\n",
       "    <tr>\n",
       "      <th>3</th>\n",
       "      <td>4</td>\n",
       "      <td>porto, v.n.gaia, portugal</td>\n",
       "      <td>17.0</td>\n",
       "    </tr>\n",
       "    <tr>\n",
       "      <th>4</th>\n",
       "      <td>5</td>\n",
       "      <td>farnborough, hants, united kingdom</td>\n",
       "      <td>NaN</td>\n",
       "    </tr>\n",
       "  </tbody>\n",
       "</table>\n",
       "</div>"
      ],
      "text/plain": [
       "   user_id                            location   age\n",
       "0        1                  nyc, new york, usa   NaN\n",
       "1        2           stockton, california, usa  18.0\n",
       "2        3     moscow, yukon territory, russia   NaN\n",
       "3        4           porto, v.n.gaia, portugal  17.0\n",
       "4        5  farnborough, hants, united kingdom   NaN"
      ]
     },
     "execution_count": 5,
     "metadata": {},
     "output_type": "execute_result"
    }
   ],
   "source": [
    "# Đổi tên cột cho dễ dùng\n",
    "users.rename(columns={\n",
    "    'User-ID': 'user_id',\n",
    "    'Location': 'location',\n",
    "    'Age': 'age'\n",
    "}, inplace=True)\n",
    "\n",
    "users.head()"
   ]
  },
  {
   "cell_type": "code",
   "execution_count": 6,
   "id": "07a4d1df-3442-4613-b7a7-3b1b9bd0d8a9",
   "metadata": {},
   "outputs": [
    {
     "name": "stdout",
     "output_type": "stream",
     "text": [
      "   User-ID        ISBN  Book-Rating\n",
      "0   276725  034545104X            0\n",
      "1   276726  0155061224            5\n",
      "2   276727  0446520802            0\n",
      "3   276729  052165615X            3\n",
      "4   276729  0521795028            6\n",
      "Shape of ratings: (1149780, 3)\n"
     ]
    }
   ],
   "source": [
    "# Load dataframe ratings\n",
    "ratings = pd.read_csv('data/BX-Book-Ratings.csv', sep=';', encoding='latin-1', on_bad_lines='skip')\n",
    "\n",
    "# Kiểm tra dữ liệu\n",
    "print(ratings.head())\n",
    "print(\"Shape of ratings:\", ratings.shape)"
   ]
  },
  {
   "cell_type": "code",
   "execution_count": 7,
   "id": "7840a391-4880-4b1f-99e5-5b9407ae6b5c",
   "metadata": {},
   "outputs": [
    {
     "data": {
      "text/html": [
       "<div>\n",
       "<style scoped>\n",
       "    .dataframe tbody tr th:only-of-type {\n",
       "        vertical-align: middle;\n",
       "    }\n",
       "\n",
       "    .dataframe tbody tr th {\n",
       "        vertical-align: top;\n",
       "    }\n",
       "\n",
       "    .dataframe thead th {\n",
       "        text-align: right;\n",
       "    }\n",
       "</style>\n",
       "<table border=\"1\" class=\"dataframe\">\n",
       "  <thead>\n",
       "    <tr style=\"text-align: right;\">\n",
       "      <th></th>\n",
       "      <th>user_id</th>\n",
       "      <th>ISBN</th>\n",
       "      <th>rating</th>\n",
       "    </tr>\n",
       "  </thead>\n",
       "  <tbody>\n",
       "    <tr>\n",
       "      <th>0</th>\n",
       "      <td>276725</td>\n",
       "      <td>034545104X</td>\n",
       "      <td>0</td>\n",
       "    </tr>\n",
       "    <tr>\n",
       "      <th>1</th>\n",
       "      <td>276726</td>\n",
       "      <td>0155061224</td>\n",
       "      <td>5</td>\n",
       "    </tr>\n",
       "    <tr>\n",
       "      <th>2</th>\n",
       "      <td>276727</td>\n",
       "      <td>0446520802</td>\n",
       "      <td>0</td>\n",
       "    </tr>\n",
       "    <tr>\n",
       "      <th>3</th>\n",
       "      <td>276729</td>\n",
       "      <td>052165615X</td>\n",
       "      <td>3</td>\n",
       "    </tr>\n",
       "    <tr>\n",
       "      <th>4</th>\n",
       "      <td>276729</td>\n",
       "      <td>0521795028</td>\n",
       "      <td>6</td>\n",
       "    </tr>\n",
       "  </tbody>\n",
       "</table>\n",
       "</div>"
      ],
      "text/plain": [
       "   user_id        ISBN  rating\n",
       "0   276725  034545104X       0\n",
       "1   276726  0155061224       5\n",
       "2   276727  0446520802       0\n",
       "3   276729  052165615X       3\n",
       "4   276729  0521795028       6"
      ]
     },
     "execution_count": 7,
     "metadata": {},
     "output_type": "execute_result"
    }
   ],
   "source": [
    "# Đổi tên cột cho dễ dùng\n",
    "ratings.rename(columns={\n",
    "    'User-ID': 'user_id',\n",
    "    'Book-Rating': 'rating'\n",
    "}, inplace=True)\n",
    "\n",
    "ratings.head()"
   ]
  },
  {
   "cell_type": "code",
   "execution_count": 8,
   "id": "44663ab9-82f5-404b-ac63-c2381191207f",
   "metadata": {},
   "outputs": [
    {
     "name": "stdout",
     "output_type": "stream",
     "text": [
      "(271360, 6)\n",
      "(278858, 3)\n",
      "(1149780, 3)\n"
     ]
    }
   ],
   "source": [
    "print(books.shape)\n",
    "print(users.shape)\n",
    "print(ratings.shape)"
   ]
  },
  {
   "cell_type": "code",
   "execution_count": 9,
   "id": "21fed424-e9de-4ad9-9308-edc48c36d4e4",
   "metadata": {},
   "outputs": [
    {
     "data": {
      "text/plain": [
       "user_id\n",
       "11676     13602\n",
       "198711     7550\n",
       "153662     6109\n",
       "98391      5891\n",
       "35859      5850\n",
       "          ...  \n",
       "116180        1\n",
       "116166        1\n",
       "116154        1\n",
       "116137        1\n",
       "276723        1\n",
       "Name: count, Length: 105283, dtype: int64"
      ]
     },
     "execution_count": 9,
     "metadata": {},
     "output_type": "execute_result"
    }
   ],
   "source": [
    "ratings['user_id'].value_counts()"
   ]
  },
  {
   "cell_type": "code",
   "execution_count": 10,
   "id": "c2b21fd3-b8ff-4a53-b04d-cc7cb26ee55e",
   "metadata": {},
   "outputs": [
    {
     "data": {
      "text/plain": [
       "(105283,)"
      ]
     },
     "execution_count": 10,
     "metadata": {},
     "output_type": "execute_result"
    }
   ],
   "source": [
    "ratings['user_id'].value_counts().shape"
   ]
  },
  {
   "cell_type": "code",
   "execution_count": 11,
   "id": "6c53d2eb-da0b-4e63-92c6-8962e96faf84",
   "metadata": {},
   "outputs": [
    {
     "data": {
      "text/plain": [
       "(899,)"
      ]
     },
     "execution_count": 11,
     "metadata": {},
     "output_type": "execute_result"
    }
   ],
   "source": [
    "# store users had rated more than 200 books\n",
    "x = ratings['user_id'].value_counts() > 200\n",
    "x[x].shape"
   ]
  },
  {
   "cell_type": "code",
   "execution_count": 12,
   "id": "5fd1d80f-091e-4686-b224-37f2d7f37d20",
   "metadata": {},
   "outputs": [
    {
     "data": {
      "text/plain": [
       "Index([ 11676, 198711, 153662,  98391,  35859, 212898, 278418,  76352, 110973,\n",
       "       235105,\n",
       "       ...\n",
       "       260183,  73681,  44296, 155916,   9856, 274808,  28634,  59727, 268622,\n",
       "       188951],\n",
       "      dtype='int64', name='user_id', length=899)"
      ]
     },
     "execution_count": 12,
     "metadata": {},
     "output_type": "execute_result"
    }
   ],
   "source": [
    "y= x[x].index\n",
    "y"
   ]
  },
  {
   "cell_type": "code",
   "execution_count": 13,
   "id": "c6ed57ac-988c-4854-bd20-e811c3dfeb17",
   "metadata": {},
   "outputs": [
    {
     "name": "stdout",
     "output_type": "stream",
     "text": [
      "      user_id        ISBN  rating\n",
      "1456   277427  002542730X      10\n",
      "1457   277427  0026217457       0\n",
      "1458   277427  003008685X       8\n",
      "1459   277427  0030615321       0\n",
      "1460   277427  0060002050       0\n",
      "Shape of ratings: (526356, 3)\n"
     ]
    }
   ],
   "source": [
    "ratings = ratings[ratings['user_id'].isin(y)]\n",
    "\n",
    "# Kiểm tra dữ liệu\n",
    "print(ratings.head())\n",
    "print(\"Shape of ratings:\", ratings.shape)"
   ]
  },
  {
   "cell_type": "code",
   "execution_count": 14,
   "id": "f4d69044-0dc9-4f22-a52b-881b85a5abc5",
   "metadata": {},
   "outputs": [
    {
     "name": "stdout",
     "output_type": "stream",
     "text": [
      "   user_id        ISBN  rating  \\\n",
      "0   277427  002542730X      10   \n",
      "1   277427  0026217457       0   \n",
      "2   277427  003008685X       8   \n",
      "3   277427  0030615321       0   \n",
      "4   277427  0060002050       0   \n",
      "\n",
      "                                               title                 author  \\\n",
      "0  Politically Correct Bedtime Stories: Modern Ta...      James Finn Garner   \n",
      "1                 Vegetarian Times Complete Cookbook             Lucy  Moll   \n",
      "2                                           Pioneers  James Fenimore Cooper   \n",
      "3   Ask for May, Settle for June (A Doonesbury book)          G. B. Trudeau   \n",
      "4                  On a Wicked Dawn (Cynster Novels)      Stephanie Laurens   \n",
      "\n",
      "   year                  publisher  \\\n",
      "0  1994  John Wiley &amp; Sons Inc   \n",
      "1  1995      John Wiley &amp; Sons   \n",
      "2  1974           Thomson Learning   \n",
      "3  1982        Henry Holt &amp; Co   \n",
      "4  2002                 Avon Books   \n",
      "\n",
      "                                           image_url  \n",
      "0  http://images.amazon.com/images/P/002542730X.0...  \n",
      "1  http://images.amazon.com/images/P/0026217457.0...  \n",
      "2  http://images.amazon.com/images/P/003008685X.0...  \n",
      "3  http://images.amazon.com/images/P/0030615321.0...  \n",
      "4  http://images.amazon.com/images/P/0060002050.0...  \n",
      "New ratings: (487671, 8)\n"
     ]
    }
   ],
   "source": [
    "# Now join ratings with books\n",
    "ratings_with_books = ratings.merge(books, on='ISBN')\n",
    "\n",
    "# Kiểm tra dữ liệu\n",
    "print(ratings_with_books.head())\n",
    "print(\"New ratings:\", ratings_with_books.shape)"
   ]
  },
  {
   "cell_type": "code",
   "execution_count": 15,
   "id": "af302946-ba0d-4f93-aa46-e2fcba1283ef",
   "metadata": {},
   "outputs": [
    {
     "name": "stdout",
     "output_type": "stream",
     "text": [
      "                                               title  rating\n",
      "0   A Light in the Storm: The Civil War Diary of ...       2\n",
      "1                              Always Have Popsicles       1\n",
      "2               Apple Magic (The Collector's series)       1\n",
      "3   Beyond IBM: Leadership Marketing and Finance ...       1\n",
      "4   Clifford Visita El Hospital (Clifford El Gran...       1\n"
     ]
    }
   ],
   "source": [
    "number_rating = ratings_with_books.groupby('title')['rating'].count().reset_index()\n",
    "print(number_rating.head())"
   ]
  },
  {
   "cell_type": "code",
   "execution_count": 16,
   "id": "e69ab738-42b7-4778-a3bf-0b1fa0220236",
   "metadata": {},
   "outputs": [
    {
     "name": "stdout",
     "output_type": "stream",
     "text": [
      "                                               title  num_of_rating\n",
      "0   A Light in the Storm: The Civil War Diary of ...              2\n",
      "1                              Always Have Popsicles              1\n",
      "2               Apple Magic (The Collector's series)              1\n",
      "3   Beyond IBM: Leadership Marketing and Finance ...              1\n",
      "4   Clifford Visita El Hospital (Clifford El Gran...              1\n"
     ]
    }
   ],
   "source": [
    "number_rating.rename(columns={'rating':'num_of_rating'},inplace=True)\n",
    "print(number_rating.head())"
   ]
  },
  {
   "cell_type": "code",
   "execution_count": 17,
   "id": "b85fdccd-f0a4-4653-b98b-288303ae803f",
   "metadata": {},
   "outputs": [
    {
     "name": "stdout",
     "output_type": "stream",
     "text": [
      "   user_id        ISBN  rating  \\\n",
      "0   277427  002542730X      10   \n",
      "1   277427  0026217457       0   \n",
      "2   277427  003008685X       8   \n",
      "3   277427  0030615321       0   \n",
      "4   277427  0060002050       0   \n",
      "\n",
      "                                               title                 author  \\\n",
      "0  Politically Correct Bedtime Stories: Modern Ta...      James Finn Garner   \n",
      "1                 Vegetarian Times Complete Cookbook             Lucy  Moll   \n",
      "2                                           Pioneers  James Fenimore Cooper   \n",
      "3   Ask for May, Settle for June (A Doonesbury book)          G. B. Trudeau   \n",
      "4                  On a Wicked Dawn (Cynster Novels)      Stephanie Laurens   \n",
      "\n",
      "   year                  publisher  \\\n",
      "0  1994  John Wiley &amp; Sons Inc   \n",
      "1  1995      John Wiley &amp; Sons   \n",
      "2  1974           Thomson Learning   \n",
      "3  1982        Henry Holt &amp; Co   \n",
      "4  2002                 Avon Books   \n",
      "\n",
      "                                           image_url  num_of_rating  \n",
      "0  http://images.amazon.com/images/P/002542730X.0...             82  \n",
      "1  http://images.amazon.com/images/P/0026217457.0...              7  \n",
      "2  http://images.amazon.com/images/P/003008685X.0...              1  \n",
      "3  http://images.amazon.com/images/P/0030615321.0...              1  \n",
      "4  http://images.amazon.com/images/P/0060002050.0...             13  \n",
      "New ratings: (487671, 9)\n"
     ]
    }
   ],
   "source": [
    "final_rating = ratings_with_books.merge(number_rating, on='title')\n",
    "# Kiểm tra dữ liệu\n",
    "print(final_rating.head())\n",
    "print(\"New ratings:\", final_rating.shape)"
   ]
  },
  {
   "cell_type": "code",
   "execution_count": 18,
   "id": "73921030-f6b5-4c20-a54a-0ecef4128792",
   "metadata": {},
   "outputs": [
    {
     "name": "stdout",
     "output_type": "stream",
     "text": [
      "    user_id        ISBN  rating  \\\n",
      "0    277427  002542730X      10   \n",
      "13   277427  0060930535       0   \n",
      "15   277427  0060934417       0   \n",
      "18   277427  0061009059       9   \n",
      "24   277427  006440188X       0   \n",
      "\n",
      "                                                title  \\\n",
      "0   Politically Correct Bedtime Stories: Modern Ta...   \n",
      "13                      The Poisonwood Bible: A Novel   \n",
      "15                                 Bel Canto: A Novel   \n",
      "18  One for the Money (Stephanie Plum Novels (Pape...   \n",
      "24                                  The Secret Garden   \n",
      "\n",
      "                     author  year                  publisher  \\\n",
      "0         James Finn Garner  1994  John Wiley &amp; Sons Inc   \n",
      "13       Barbara Kingsolver  1999                  Perennial   \n",
      "15             Ann Patchett  2002                  Perennial   \n",
      "18          Janet Evanovich  1995                HarperTorch   \n",
      "24  Frances Hodgson Burnett  1998               HarperTrophy   \n",
      "\n",
      "                                            image_url  num_of_rating  \n",
      "0   http://images.amazon.com/images/P/002542730X.0...             82  \n",
      "13  http://images.amazon.com/images/P/0060930535.0...            133  \n",
      "15  http://images.amazon.com/images/P/0060934417.0...            108  \n",
      "18  http://images.amazon.com/images/P/0061009059.0...            108  \n",
      "24  http://images.amazon.com/images/P/006440188X.0...             79  \n",
      "New ratings: (61853, 9)\n"
     ]
    }
   ],
   "source": [
    "# Take those books which got at least 50 rating of user\n",
    "final_rating = final_rating[final_rating['num_of_rating'] >= 50]\n",
    "# Kiểm tra dữ liệu\n",
    "print(final_rating.head())\n",
    "print(\"New ratings:\", final_rating.shape)"
   ]
  },
  {
   "cell_type": "code",
   "execution_count": 19,
   "id": "8938e7a8-8277-4540-a18f-c54542abd7b4",
   "metadata": {},
   "outputs": [
    {
     "name": "stdout",
     "output_type": "stream",
     "text": [
      "    user_id        ISBN  rating  \\\n",
      "0    277427  002542730X      10   \n",
      "13   277427  0060930535       0   \n",
      "15   277427  0060934417       0   \n",
      "18   277427  0061009059       9   \n",
      "24   277427  006440188X       0   \n",
      "\n",
      "                                                title  \\\n",
      "0   Politically Correct Bedtime Stories: Modern Ta...   \n",
      "13                      The Poisonwood Bible: A Novel   \n",
      "15                                 Bel Canto: A Novel   \n",
      "18  One for the Money (Stephanie Plum Novels (Pape...   \n",
      "24                                  The Secret Garden   \n",
      "\n",
      "                     author  year                  publisher  \\\n",
      "0         James Finn Garner  1994  John Wiley &amp; Sons Inc   \n",
      "13       Barbara Kingsolver  1999                  Perennial   \n",
      "15             Ann Patchett  2002                  Perennial   \n",
      "18          Janet Evanovich  1995                HarperTorch   \n",
      "24  Frances Hodgson Burnett  1998               HarperTrophy   \n",
      "\n",
      "                                            image_url  num_of_rating  \n",
      "0   http://images.amazon.com/images/P/002542730X.0...             82  \n",
      "13  http://images.amazon.com/images/P/0060930535.0...            133  \n",
      "15  http://images.amazon.com/images/P/0060934417.0...            108  \n",
      "18  http://images.amazon.com/images/P/0061009059.0...            108  \n",
      "24  http://images.amazon.com/images/P/006440188X.0...             79  \n",
      "New ratings: (59850, 9)\n"
     ]
    }
   ],
   "source": [
    "# drop the duplicates\n",
    "final_rating.drop_duplicates(['user_id','title'],inplace=True)\n",
    "# Kiểm tra dữ liệu\n",
    "print(final_rating.head())\n",
    "print(\"New ratings:\", final_rating.shape)"
   ]
  },
  {
   "cell_type": "code",
   "execution_count": 20,
   "id": "c13559a8-4daf-4b28-a5c2-64834a0cd1aa",
   "metadata": {},
   "outputs": [
    {
     "name": "stdout",
     "output_type": "stream",
     "text": [
      "user_id                                             254     2276    2766    \\\n",
      "title                                                                        \n",
      "1984                                                   9.0     NaN     NaN   \n",
      "1st to Die: A Novel                                    NaN     NaN     NaN   \n",
      "2nd Chance                                             NaN    10.0     NaN   \n",
      "4 Blondes                                              NaN     NaN     NaN   \n",
      "84 Charing Cross Road                                  NaN     NaN     NaN   \n",
      "...                                                    ...     ...     ...   \n",
      "Year of Wonders                                        NaN     NaN     NaN   \n",
      "You Belong To Me                                       NaN     NaN     NaN   \n",
      "Zen and the Art of Motorcycle Maintenance: An I...     NaN     NaN     NaN   \n",
      "Zoya                                                   NaN     NaN     NaN   \n",
      "\\O\\\" Is for Outlaw\"                                    NaN     NaN     NaN   \n",
      "\n",
      "user_id                                             2977    3363    3757    \\\n",
      "title                                                                        \n",
      "1984                                                   NaN     NaN     NaN   \n",
      "1st to Die: A Novel                                    NaN     NaN     NaN   \n",
      "2nd Chance                                             NaN     NaN     NaN   \n",
      "4 Blondes                                              NaN     NaN     NaN   \n",
      "84 Charing Cross Road                                  NaN     NaN     NaN   \n",
      "...                                                    ...     ...     ...   \n",
      "Year of Wonders                                        7.0     NaN     NaN   \n",
      "You Belong To Me                                       NaN     NaN     NaN   \n",
      "Zen and the Art of Motorcycle Maintenance: An I...     NaN     0.0     NaN   \n",
      "Zoya                                                   NaN     NaN     NaN   \n",
      "\\O\\\" Is for Outlaw\"                                    NaN     NaN     NaN   \n",
      "\n",
      "user_id                                             4017    4385    6242    \\\n",
      "title                                                                        \n",
      "1984                                                   NaN     NaN     NaN   \n",
      "1st to Die: A Novel                                    NaN     NaN     NaN   \n",
      "2nd Chance                                             NaN     NaN     NaN   \n",
      "4 Blondes                                              NaN     NaN     NaN   \n",
      "84 Charing Cross Road                                  NaN     NaN     NaN   \n",
      "...                                                    ...     ...     ...   \n",
      "Year of Wonders                                        NaN     NaN     7.0   \n",
      "You Belong To Me                                       NaN     NaN     NaN   \n",
      "Zen and the Art of Motorcycle Maintenance: An I...     NaN     NaN     NaN   \n",
      "Zoya                                                   NaN     NaN     NaN   \n",
      "\\O\\\" Is for Outlaw\"                                    NaN     NaN     NaN   \n",
      "\n",
      "user_id                                             6251    ...  274004  \\\n",
      "title                                                       ...           \n",
      "1984                                                   NaN  ...     NaN   \n",
      "1st to Die: A Novel                                    NaN  ...     NaN   \n",
      "2nd Chance                                             NaN  ...     NaN   \n",
      "4 Blondes                                              0.0  ...     NaN   \n",
      "84 Charing Cross Road                                  NaN  ...     NaN   \n",
      "...                                                    ...  ...     ...   \n",
      "Year of Wonders                                        NaN  ...     NaN   \n",
      "You Belong To Me                                       NaN  ...     NaN   \n",
      "Zen and the Art of Motorcycle Maintenance: An I...     0.0  ...     NaN   \n",
      "Zoya                                                   NaN  ...     NaN   \n",
      "\\O\\\" Is for Outlaw\"                                    NaN  ...     NaN   \n",
      "\n",
      "user_id                                             274061  274301  274308  \\\n",
      "title                                                                        \n",
      "1984                                                   NaN     NaN     NaN   \n",
      "1st to Die: A Novel                                    NaN     NaN     NaN   \n",
      "2nd Chance                                             NaN     NaN     0.0   \n",
      "4 Blondes                                              NaN     NaN     NaN   \n",
      "84 Charing Cross Road                                  NaN     NaN     NaN   \n",
      "...                                                    ...     ...     ...   \n",
      "Year of Wonders                                        NaN     NaN     NaN   \n",
      "You Belong To Me                                       NaN     NaN     NaN   \n",
      "Zen and the Art of Motorcycle Maintenance: An I...     NaN     NaN     NaN   \n",
      "Zoya                                                   NaN     NaN     NaN   \n",
      "\\O\\\" Is for Outlaw\"                                    NaN     8.0     NaN   \n",
      "\n",
      "user_id                                             274808  275970  277427  \\\n",
      "title                                                                        \n",
      "1984                                                   NaN     0.0     NaN   \n",
      "1st to Die: A Novel                                    NaN     NaN     NaN   \n",
      "2nd Chance                                             NaN     NaN     NaN   \n",
      "4 Blondes                                              NaN     NaN     NaN   \n",
      "84 Charing Cross Road                                  NaN    10.0     NaN   \n",
      "...                                                    ...     ...     ...   \n",
      "Year of Wonders                                        NaN     0.0     NaN   \n",
      "You Belong To Me                                       NaN     NaN     NaN   \n",
      "Zen and the Art of Motorcycle Maintenance: An I...     NaN     0.0     NaN   \n",
      "Zoya                                                   NaN     NaN     NaN   \n",
      "\\O\\\" Is for Outlaw\"                                    NaN     NaN     NaN   \n",
      "\n",
      "user_id                                             277478  277639  278418  \n",
      "title                                                                       \n",
      "1984                                                   NaN     NaN     NaN  \n",
      "1st to Die: A Novel                                    NaN     NaN     NaN  \n",
      "2nd Chance                                             NaN     0.0     NaN  \n",
      "4 Blondes                                              NaN     NaN     NaN  \n",
      "84 Charing Cross Road                                  NaN     NaN     NaN  \n",
      "...                                                    ...     ...     ...  \n",
      "Year of Wonders                                        NaN     NaN     NaN  \n",
      "You Belong To Me                                       NaN     NaN     NaN  \n",
      "Zen and the Art of Motorcycle Maintenance: An I...     NaN     NaN     NaN  \n",
      "Zoya                                                   NaN     NaN     NaN  \n",
      "\\O\\\" Is for Outlaw\"                                    NaN     NaN     NaN  \n",
      "\n",
      "[742 rows x 888 columns]\n"
     ]
    }
   ],
   "source": [
    "# create a pivot table\n",
    "book_pivot = final_rating.pivot_table(columns='user_id', index='title', values= 'rating')\n",
    "print(book_pivot)"
   ]
  },
  {
   "cell_type": "code",
   "execution_count": 21,
   "id": "0a1c9992-02bb-40ec-bb36-6d9066f821fb",
   "metadata": {},
   "outputs": [
    {
     "name": "stdout",
     "output_type": "stream",
     "text": [
      "user_id                                             254     2276    2766    \\\n",
      "title                                                                        \n",
      "1984                                                   9.0     0.0     0.0   \n",
      "1st to Die: A Novel                                    0.0     0.0     0.0   \n",
      "2nd Chance                                             0.0    10.0     0.0   \n",
      "4 Blondes                                              0.0     0.0     0.0   \n",
      "84 Charing Cross Road                                  0.0     0.0     0.0   \n",
      "...                                                    ...     ...     ...   \n",
      "Year of Wonders                                        0.0     0.0     0.0   \n",
      "You Belong To Me                                       0.0     0.0     0.0   \n",
      "Zen and the Art of Motorcycle Maintenance: An I...     0.0     0.0     0.0   \n",
      "Zoya                                                   0.0     0.0     0.0   \n",
      "\\O\\\" Is for Outlaw\"                                    0.0     0.0     0.0   \n",
      "\n",
      "user_id                                             2977    3363    3757    \\\n",
      "title                                                                        \n",
      "1984                                                   0.0     0.0     0.0   \n",
      "1st to Die: A Novel                                    0.0     0.0     0.0   \n",
      "2nd Chance                                             0.0     0.0     0.0   \n",
      "4 Blondes                                              0.0     0.0     0.0   \n",
      "84 Charing Cross Road                                  0.0     0.0     0.0   \n",
      "...                                                    ...     ...     ...   \n",
      "Year of Wonders                                        7.0     0.0     0.0   \n",
      "You Belong To Me                                       0.0     0.0     0.0   \n",
      "Zen and the Art of Motorcycle Maintenance: An I...     0.0     0.0     0.0   \n",
      "Zoya                                                   0.0     0.0     0.0   \n",
      "\\O\\\" Is for Outlaw\"                                    0.0     0.0     0.0   \n",
      "\n",
      "user_id                                             4017    4385    6242    \\\n",
      "title                                                                        \n",
      "1984                                                   0.0     0.0     0.0   \n",
      "1st to Die: A Novel                                    0.0     0.0     0.0   \n",
      "2nd Chance                                             0.0     0.0     0.0   \n",
      "4 Blondes                                              0.0     0.0     0.0   \n",
      "84 Charing Cross Road                                  0.0     0.0     0.0   \n",
      "...                                                    ...     ...     ...   \n",
      "Year of Wonders                                        0.0     0.0     7.0   \n",
      "You Belong To Me                                       0.0     0.0     0.0   \n",
      "Zen and the Art of Motorcycle Maintenance: An I...     0.0     0.0     0.0   \n",
      "Zoya                                                   0.0     0.0     0.0   \n",
      "\\O\\\" Is for Outlaw\"                                    0.0     0.0     0.0   \n",
      "\n",
      "user_id                                             6251    ...  274004  \\\n",
      "title                                                       ...           \n",
      "1984                                                   0.0  ...     0.0   \n",
      "1st to Die: A Novel                                    0.0  ...     0.0   \n",
      "2nd Chance                                             0.0  ...     0.0   \n",
      "4 Blondes                                              0.0  ...     0.0   \n",
      "84 Charing Cross Road                                  0.0  ...     0.0   \n",
      "...                                                    ...  ...     ...   \n",
      "Year of Wonders                                        0.0  ...     0.0   \n",
      "You Belong To Me                                       0.0  ...     0.0   \n",
      "Zen and the Art of Motorcycle Maintenance: An I...     0.0  ...     0.0   \n",
      "Zoya                                                   0.0  ...     0.0   \n",
      "\\O\\\" Is for Outlaw\"                                    0.0  ...     0.0   \n",
      "\n",
      "user_id                                             274061  274301  274308  \\\n",
      "title                                                                        \n",
      "1984                                                   0.0     0.0     0.0   \n",
      "1st to Die: A Novel                                    0.0     0.0     0.0   \n",
      "2nd Chance                                             0.0     0.0     0.0   \n",
      "4 Blondes                                              0.0     0.0     0.0   \n",
      "84 Charing Cross Road                                  0.0     0.0     0.0   \n",
      "...                                                    ...     ...     ...   \n",
      "Year of Wonders                                        0.0     0.0     0.0   \n",
      "You Belong To Me                                       0.0     0.0     0.0   \n",
      "Zen and the Art of Motorcycle Maintenance: An I...     0.0     0.0     0.0   \n",
      "Zoya                                                   0.0     0.0     0.0   \n",
      "\\O\\\" Is for Outlaw\"                                    0.0     8.0     0.0   \n",
      "\n",
      "user_id                                             274808  275970  277427  \\\n",
      "title                                                                        \n",
      "1984                                                   0.0     0.0     0.0   \n",
      "1st to Die: A Novel                                    0.0     0.0     0.0   \n",
      "2nd Chance                                             0.0     0.0     0.0   \n",
      "4 Blondes                                              0.0     0.0     0.0   \n",
      "84 Charing Cross Road                                  0.0    10.0     0.0   \n",
      "...                                                    ...     ...     ...   \n",
      "Year of Wonders                                        0.0     0.0     0.0   \n",
      "You Belong To Me                                       0.0     0.0     0.0   \n",
      "Zen and the Art of Motorcycle Maintenance: An I...     0.0     0.0     0.0   \n",
      "Zoya                                                   0.0     0.0     0.0   \n",
      "\\O\\\" Is for Outlaw\"                                    0.0     0.0     0.0   \n",
      "\n",
      "user_id                                             277478  277639  278418  \n",
      "title                                                                       \n",
      "1984                                                   0.0     0.0     0.0  \n",
      "1st to Die: A Novel                                    0.0     0.0     0.0  \n",
      "2nd Chance                                             0.0     0.0     0.0  \n",
      "4 Blondes                                              0.0     0.0     0.0  \n",
      "84 Charing Cross Road                                  0.0     0.0     0.0  \n",
      "...                                                    ...     ...     ...  \n",
      "Year of Wonders                                        0.0     0.0     0.0  \n",
      "You Belong To Me                                       0.0     0.0     0.0  \n",
      "Zen and the Art of Motorcycle Maintenance: An I...     0.0     0.0     0.0  \n",
      "Zoya                                                   0.0     0.0     0.0  \n",
      "\\O\\\" Is for Outlaw\"                                    0.0     0.0     0.0  \n",
      "\n",
      "[742 rows x 888 columns]\n"
     ]
    }
   ],
   "source": [
    "book_pivot.fillna(0, inplace=True)\n",
    "print(book_pivot)"
   ]
  },
  {
   "cell_type": "code",
   "execution_count": 22,
   "id": "6901fb7b-911a-46f5-af35-069b1d2dee8c",
   "metadata": {},
   "outputs": [
    {
     "data": {
      "text/plain": [
       "scipy.sparse._csr.csr_matrix"
      ]
     },
     "execution_count": 22,
     "metadata": {},
     "output_type": "execute_result"
    }
   ],
   "source": [
    "from scipy.sparse import csr_matrix\n",
    "book_sparse = csr_matrix(book_pivot)\n",
    "type(book_sparse)"
   ]
  },
  {
   "cell_type": "code",
   "execution_count": 23,
   "id": "b3630f66-3bd2-4578-bbcd-baedc11cc51b",
   "metadata": {},
   "outputs": [
    {
     "data": {
      "text/html": [
       "<style>#sk-container-id-1 {\n",
       "  /* Definition of color scheme common for light and dark mode */\n",
       "  --sklearn-color-text: black;\n",
       "  --sklearn-color-line: gray;\n",
       "  /* Definition of color scheme for unfitted estimators */\n",
       "  --sklearn-color-unfitted-level-0: #fff5e6;\n",
       "  --sklearn-color-unfitted-level-1: #f6e4d2;\n",
       "  --sklearn-color-unfitted-level-2: #ffe0b3;\n",
       "  --sklearn-color-unfitted-level-3: chocolate;\n",
       "  /* Definition of color scheme for fitted estimators */\n",
       "  --sklearn-color-fitted-level-0: #f0f8ff;\n",
       "  --sklearn-color-fitted-level-1: #d4ebff;\n",
       "  --sklearn-color-fitted-level-2: #b3dbfd;\n",
       "  --sklearn-color-fitted-level-3: cornflowerblue;\n",
       "\n",
       "  /* Specific color for light theme */\n",
       "  --sklearn-color-text-on-default-background: var(--sg-text-color, var(--theme-code-foreground, var(--jp-content-font-color1, black)));\n",
       "  --sklearn-color-background: var(--sg-background-color, var(--theme-background, var(--jp-layout-color0, white)));\n",
       "  --sklearn-color-border-box: var(--sg-text-color, var(--theme-code-foreground, var(--jp-content-font-color1, black)));\n",
       "  --sklearn-color-icon: #696969;\n",
       "\n",
       "  @media (prefers-color-scheme: dark) {\n",
       "    /* Redefinition of color scheme for dark theme */\n",
       "    --sklearn-color-text-on-default-background: var(--sg-text-color, var(--theme-code-foreground, var(--jp-content-font-color1, white)));\n",
       "    --sklearn-color-background: var(--sg-background-color, var(--theme-background, var(--jp-layout-color0, #111)));\n",
       "    --sklearn-color-border-box: var(--sg-text-color, var(--theme-code-foreground, var(--jp-content-font-color1, white)));\n",
       "    --sklearn-color-icon: #878787;\n",
       "  }\n",
       "}\n",
       "\n",
       "#sk-container-id-1 {\n",
       "  color: var(--sklearn-color-text);\n",
       "}\n",
       "\n",
       "#sk-container-id-1 pre {\n",
       "  padding: 0;\n",
       "}\n",
       "\n",
       "#sk-container-id-1 input.sk-hidden--visually {\n",
       "  border: 0;\n",
       "  clip: rect(1px 1px 1px 1px);\n",
       "  clip: rect(1px, 1px, 1px, 1px);\n",
       "  height: 1px;\n",
       "  margin: -1px;\n",
       "  overflow: hidden;\n",
       "  padding: 0;\n",
       "  position: absolute;\n",
       "  width: 1px;\n",
       "}\n",
       "\n",
       "#sk-container-id-1 div.sk-dashed-wrapped {\n",
       "  border: 1px dashed var(--sklearn-color-line);\n",
       "  margin: 0 0.4em 0.5em 0.4em;\n",
       "  box-sizing: border-box;\n",
       "  padding-bottom: 0.4em;\n",
       "  background-color: var(--sklearn-color-background);\n",
       "}\n",
       "\n",
       "#sk-container-id-1 div.sk-container {\n",
       "  /* jupyter's `normalize.less` sets `[hidden] { display: none; }`\n",
       "     but bootstrap.min.css set `[hidden] { display: none !important; }`\n",
       "     so we also need the `!important` here to be able to override the\n",
       "     default hidden behavior on the sphinx rendered scikit-learn.org.\n",
       "     See: https://github.com/scikit-learn/scikit-learn/issues/21755 */\n",
       "  display: inline-block !important;\n",
       "  position: relative;\n",
       "}\n",
       "\n",
       "#sk-container-id-1 div.sk-text-repr-fallback {\n",
       "  display: none;\n",
       "}\n",
       "\n",
       "div.sk-parallel-item,\n",
       "div.sk-serial,\n",
       "div.sk-item {\n",
       "  /* draw centered vertical line to link estimators */\n",
       "  background-image: linear-gradient(var(--sklearn-color-text-on-default-background), var(--sklearn-color-text-on-default-background));\n",
       "  background-size: 2px 100%;\n",
       "  background-repeat: no-repeat;\n",
       "  background-position: center center;\n",
       "}\n",
       "\n",
       "/* Parallel-specific style estimator block */\n",
       "\n",
       "#sk-container-id-1 div.sk-parallel-item::after {\n",
       "  content: \"\";\n",
       "  width: 100%;\n",
       "  border-bottom: 2px solid var(--sklearn-color-text-on-default-background);\n",
       "  flex-grow: 1;\n",
       "}\n",
       "\n",
       "#sk-container-id-1 div.sk-parallel {\n",
       "  display: flex;\n",
       "  align-items: stretch;\n",
       "  justify-content: center;\n",
       "  background-color: var(--sklearn-color-background);\n",
       "  position: relative;\n",
       "}\n",
       "\n",
       "#sk-container-id-1 div.sk-parallel-item {\n",
       "  display: flex;\n",
       "  flex-direction: column;\n",
       "}\n",
       "\n",
       "#sk-container-id-1 div.sk-parallel-item:first-child::after {\n",
       "  align-self: flex-end;\n",
       "  width: 50%;\n",
       "}\n",
       "\n",
       "#sk-container-id-1 div.sk-parallel-item:last-child::after {\n",
       "  align-self: flex-start;\n",
       "  width: 50%;\n",
       "}\n",
       "\n",
       "#sk-container-id-1 div.sk-parallel-item:only-child::after {\n",
       "  width: 0;\n",
       "}\n",
       "\n",
       "/* Serial-specific style estimator block */\n",
       "\n",
       "#sk-container-id-1 div.sk-serial {\n",
       "  display: flex;\n",
       "  flex-direction: column;\n",
       "  align-items: center;\n",
       "  background-color: var(--sklearn-color-background);\n",
       "  padding-right: 1em;\n",
       "  padding-left: 1em;\n",
       "}\n",
       "\n",
       "\n",
       "/* Toggleable style: style used for estimator/Pipeline/ColumnTransformer box that is\n",
       "clickable and can be expanded/collapsed.\n",
       "- Pipeline and ColumnTransformer use this feature and define the default style\n",
       "- Estimators will overwrite some part of the style using the `sk-estimator` class\n",
       "*/\n",
       "\n",
       "/* Pipeline and ColumnTransformer style (default) */\n",
       "\n",
       "#sk-container-id-1 div.sk-toggleable {\n",
       "  /* Default theme specific background. It is overwritten whether we have a\n",
       "  specific estimator or a Pipeline/ColumnTransformer */\n",
       "  background-color: var(--sklearn-color-background);\n",
       "}\n",
       "\n",
       "/* Toggleable label */\n",
       "#sk-container-id-1 label.sk-toggleable__label {\n",
       "  cursor: pointer;\n",
       "  display: block;\n",
       "  width: 100%;\n",
       "  margin-bottom: 0;\n",
       "  padding: 0.5em;\n",
       "  box-sizing: border-box;\n",
       "  text-align: center;\n",
       "}\n",
       "\n",
       "#sk-container-id-1 label.sk-toggleable__label-arrow:before {\n",
       "  /* Arrow on the left of the label */\n",
       "  content: \"▸\";\n",
       "  float: left;\n",
       "  margin-right: 0.25em;\n",
       "  color: var(--sklearn-color-icon);\n",
       "}\n",
       "\n",
       "#sk-container-id-1 label.sk-toggleable__label-arrow:hover:before {\n",
       "  color: var(--sklearn-color-text);\n",
       "}\n",
       "\n",
       "/* Toggleable content - dropdown */\n",
       "\n",
       "#sk-container-id-1 div.sk-toggleable__content {\n",
       "  max-height: 0;\n",
       "  max-width: 0;\n",
       "  overflow: hidden;\n",
       "  text-align: left;\n",
       "  /* unfitted */\n",
       "  background-color: var(--sklearn-color-unfitted-level-0);\n",
       "}\n",
       "\n",
       "#sk-container-id-1 div.sk-toggleable__content.fitted {\n",
       "  /* fitted */\n",
       "  background-color: var(--sklearn-color-fitted-level-0);\n",
       "}\n",
       "\n",
       "#sk-container-id-1 div.sk-toggleable__content pre {\n",
       "  margin: 0.2em;\n",
       "  border-radius: 0.25em;\n",
       "  color: var(--sklearn-color-text);\n",
       "  /* unfitted */\n",
       "  background-color: var(--sklearn-color-unfitted-level-0);\n",
       "}\n",
       "\n",
       "#sk-container-id-1 div.sk-toggleable__content.fitted pre {\n",
       "  /* unfitted */\n",
       "  background-color: var(--sklearn-color-fitted-level-0);\n",
       "}\n",
       "\n",
       "#sk-container-id-1 input.sk-toggleable__control:checked~div.sk-toggleable__content {\n",
       "  /* Expand drop-down */\n",
       "  max-height: 200px;\n",
       "  max-width: 100%;\n",
       "  overflow: auto;\n",
       "}\n",
       "\n",
       "#sk-container-id-1 input.sk-toggleable__control:checked~label.sk-toggleable__label-arrow:before {\n",
       "  content: \"▾\";\n",
       "}\n",
       "\n",
       "/* Pipeline/ColumnTransformer-specific style */\n",
       "\n",
       "#sk-container-id-1 div.sk-label input.sk-toggleable__control:checked~label.sk-toggleable__label {\n",
       "  color: var(--sklearn-color-text);\n",
       "  background-color: var(--sklearn-color-unfitted-level-2);\n",
       "}\n",
       "\n",
       "#sk-container-id-1 div.sk-label.fitted input.sk-toggleable__control:checked~label.sk-toggleable__label {\n",
       "  background-color: var(--sklearn-color-fitted-level-2);\n",
       "}\n",
       "\n",
       "/* Estimator-specific style */\n",
       "\n",
       "/* Colorize estimator box */\n",
       "#sk-container-id-1 div.sk-estimator input.sk-toggleable__control:checked~label.sk-toggleable__label {\n",
       "  /* unfitted */\n",
       "  background-color: var(--sklearn-color-unfitted-level-2);\n",
       "}\n",
       "\n",
       "#sk-container-id-1 div.sk-estimator.fitted input.sk-toggleable__control:checked~label.sk-toggleable__label {\n",
       "  /* fitted */\n",
       "  background-color: var(--sklearn-color-fitted-level-2);\n",
       "}\n",
       "\n",
       "#sk-container-id-1 div.sk-label label.sk-toggleable__label,\n",
       "#sk-container-id-1 div.sk-label label {\n",
       "  /* The background is the default theme color */\n",
       "  color: var(--sklearn-color-text-on-default-background);\n",
       "}\n",
       "\n",
       "/* On hover, darken the color of the background */\n",
       "#sk-container-id-1 div.sk-label:hover label.sk-toggleable__label {\n",
       "  color: var(--sklearn-color-text);\n",
       "  background-color: var(--sklearn-color-unfitted-level-2);\n",
       "}\n",
       "\n",
       "/* Label box, darken color on hover, fitted */\n",
       "#sk-container-id-1 div.sk-label.fitted:hover label.sk-toggleable__label.fitted {\n",
       "  color: var(--sklearn-color-text);\n",
       "  background-color: var(--sklearn-color-fitted-level-2);\n",
       "}\n",
       "\n",
       "/* Estimator label */\n",
       "\n",
       "#sk-container-id-1 div.sk-label label {\n",
       "  font-family: monospace;\n",
       "  font-weight: bold;\n",
       "  display: inline-block;\n",
       "  line-height: 1.2em;\n",
       "}\n",
       "\n",
       "#sk-container-id-1 div.sk-label-container {\n",
       "  text-align: center;\n",
       "}\n",
       "\n",
       "/* Estimator-specific */\n",
       "#sk-container-id-1 div.sk-estimator {\n",
       "  font-family: monospace;\n",
       "  border: 1px dotted var(--sklearn-color-border-box);\n",
       "  border-radius: 0.25em;\n",
       "  box-sizing: border-box;\n",
       "  margin-bottom: 0.5em;\n",
       "  /* unfitted */\n",
       "  background-color: var(--sklearn-color-unfitted-level-0);\n",
       "}\n",
       "\n",
       "#sk-container-id-1 div.sk-estimator.fitted {\n",
       "  /* fitted */\n",
       "  background-color: var(--sklearn-color-fitted-level-0);\n",
       "}\n",
       "\n",
       "/* on hover */\n",
       "#sk-container-id-1 div.sk-estimator:hover {\n",
       "  /* unfitted */\n",
       "  background-color: var(--sklearn-color-unfitted-level-2);\n",
       "}\n",
       "\n",
       "#sk-container-id-1 div.sk-estimator.fitted:hover {\n",
       "  /* fitted */\n",
       "  background-color: var(--sklearn-color-fitted-level-2);\n",
       "}\n",
       "\n",
       "/* Specification for estimator info (e.g. \"i\" and \"?\") */\n",
       "\n",
       "/* Common style for \"i\" and \"?\" */\n",
       "\n",
       ".sk-estimator-doc-link,\n",
       "a:link.sk-estimator-doc-link,\n",
       "a:visited.sk-estimator-doc-link {\n",
       "  float: right;\n",
       "  font-size: smaller;\n",
       "  line-height: 1em;\n",
       "  font-family: monospace;\n",
       "  background-color: var(--sklearn-color-background);\n",
       "  border-radius: 1em;\n",
       "  height: 1em;\n",
       "  width: 1em;\n",
       "  text-decoration: none !important;\n",
       "  margin-left: 1ex;\n",
       "  /* unfitted */\n",
       "  border: var(--sklearn-color-unfitted-level-1) 1pt solid;\n",
       "  color: var(--sklearn-color-unfitted-level-1);\n",
       "}\n",
       "\n",
       ".sk-estimator-doc-link.fitted,\n",
       "a:link.sk-estimator-doc-link.fitted,\n",
       "a:visited.sk-estimator-doc-link.fitted {\n",
       "  /* fitted */\n",
       "  border: var(--sklearn-color-fitted-level-1) 1pt solid;\n",
       "  color: var(--sklearn-color-fitted-level-1);\n",
       "}\n",
       "\n",
       "/* On hover */\n",
       "div.sk-estimator:hover .sk-estimator-doc-link:hover,\n",
       ".sk-estimator-doc-link:hover,\n",
       "div.sk-label-container:hover .sk-estimator-doc-link:hover,\n",
       ".sk-estimator-doc-link:hover {\n",
       "  /* unfitted */\n",
       "  background-color: var(--sklearn-color-unfitted-level-3);\n",
       "  color: var(--sklearn-color-background);\n",
       "  text-decoration: none;\n",
       "}\n",
       "\n",
       "div.sk-estimator.fitted:hover .sk-estimator-doc-link.fitted:hover,\n",
       ".sk-estimator-doc-link.fitted:hover,\n",
       "div.sk-label-container:hover .sk-estimator-doc-link.fitted:hover,\n",
       ".sk-estimator-doc-link.fitted:hover {\n",
       "  /* fitted */\n",
       "  background-color: var(--sklearn-color-fitted-level-3);\n",
       "  color: var(--sklearn-color-background);\n",
       "  text-decoration: none;\n",
       "}\n",
       "\n",
       "/* Span, style for the box shown on hovering the info icon */\n",
       ".sk-estimator-doc-link span {\n",
       "  display: none;\n",
       "  z-index: 9999;\n",
       "  position: relative;\n",
       "  font-weight: normal;\n",
       "  right: .2ex;\n",
       "  padding: .5ex;\n",
       "  margin: .5ex;\n",
       "  width: min-content;\n",
       "  min-width: 20ex;\n",
       "  max-width: 50ex;\n",
       "  color: var(--sklearn-color-text);\n",
       "  box-shadow: 2pt 2pt 4pt #999;\n",
       "  /* unfitted */\n",
       "  background: var(--sklearn-color-unfitted-level-0);\n",
       "  border: .5pt solid var(--sklearn-color-unfitted-level-3);\n",
       "}\n",
       "\n",
       ".sk-estimator-doc-link.fitted span {\n",
       "  /* fitted */\n",
       "  background: var(--sklearn-color-fitted-level-0);\n",
       "  border: var(--sklearn-color-fitted-level-3);\n",
       "}\n",
       "\n",
       ".sk-estimator-doc-link:hover span {\n",
       "  display: block;\n",
       "}\n",
       "\n",
       "/* \"?\"-specific style due to the `<a>` HTML tag */\n",
       "\n",
       "#sk-container-id-1 a.estimator_doc_link {\n",
       "  float: right;\n",
       "  font-size: 1rem;\n",
       "  line-height: 1em;\n",
       "  font-family: monospace;\n",
       "  background-color: var(--sklearn-color-background);\n",
       "  border-radius: 1rem;\n",
       "  height: 1rem;\n",
       "  width: 1rem;\n",
       "  text-decoration: none;\n",
       "  /* unfitted */\n",
       "  color: var(--sklearn-color-unfitted-level-1);\n",
       "  border: var(--sklearn-color-unfitted-level-1) 1pt solid;\n",
       "}\n",
       "\n",
       "#sk-container-id-1 a.estimator_doc_link.fitted {\n",
       "  /* fitted */\n",
       "  border: var(--sklearn-color-fitted-level-1) 1pt solid;\n",
       "  color: var(--sklearn-color-fitted-level-1);\n",
       "}\n",
       "\n",
       "/* On hover */\n",
       "#sk-container-id-1 a.estimator_doc_link:hover {\n",
       "  /* unfitted */\n",
       "  background-color: var(--sklearn-color-unfitted-level-3);\n",
       "  color: var(--sklearn-color-background);\n",
       "  text-decoration: none;\n",
       "}\n",
       "\n",
       "#sk-container-id-1 a.estimator_doc_link.fitted:hover {\n",
       "  /* fitted */\n",
       "  background-color: var(--sklearn-color-fitted-level-3);\n",
       "}\n",
       "</style><div id=\"sk-container-id-1\" class=\"sk-top-container\"><div class=\"sk-text-repr-fallback\"><pre>NearestNeighbors(algorithm=&#x27;brute&#x27;)</pre><b>In a Jupyter environment, please rerun this cell to show the HTML representation or trust the notebook. <br />On GitHub, the HTML representation is unable to render, please try loading this page with nbviewer.org.</b></div><div class=\"sk-container\" hidden><div class=\"sk-item\"><div class=\"sk-estimator fitted sk-toggleable\"><input class=\"sk-toggleable__control sk-hidden--visually\" id=\"sk-estimator-id-1\" type=\"checkbox\" checked><label for=\"sk-estimator-id-1\" class=\"sk-toggleable__label fitted sk-toggleable__label-arrow fitted\">&nbsp;&nbsp;NearestNeighbors<a class=\"sk-estimator-doc-link fitted\" rel=\"noreferrer\" target=\"_blank\" href=\"https://scikit-learn.org/1.5/modules/generated/sklearn.neighbors.NearestNeighbors.html\">?<span>Documentation for NearestNeighbors</span></a><span class=\"sk-estimator-doc-link fitted\">i<span>Fitted</span></span></label><div class=\"sk-toggleable__content fitted\"><pre>NearestNeighbors(algorithm=&#x27;brute&#x27;)</pre></div> </div></div></div></div>"
      ],
      "text/plain": [
       "NearestNeighbors(algorithm='brute')"
      ]
     },
     "execution_count": 23,
     "metadata": {},
     "output_type": "execute_result"
    }
   ],
   "source": [
    "# clustering algoritm (Nearest Neighbors)\n",
    "from sklearn.neighbors import NearestNeighbors\n",
    "model = NearestNeighbors(algorithm= 'brute')\n",
    "model.fit(book_sparse)"
   ]
  },
  {
   "cell_type": "code",
   "execution_count": 24,
   "id": "bbe3494b-5d23-4488-bce4-11894f2eab5e",
   "metadata": {},
   "outputs": [
    {
     "name": "stdout",
     "output_type": "stream",
     "text": [
      "distance [[ 0.         67.75691847 68.05145112 72.277244   75.81556568 76.30203143]]\n",
      "suggestion [[237 238 240 241 184 536]]\n"
     ]
    }
   ],
   "source": [
    "distance, suggestion = model.kneighbors(book_pivot.iloc[237,:].values.reshape(1,-1), n_neighbors=6 )\n",
    "print(\"distance\", distance)\n",
    "print(\"suggestion\", suggestion)"
   ]
  },
  {
   "cell_type": "code",
   "execution_count": 25,
   "id": "03701b27-aaef-4b03-9fc6-79489f5b5791",
   "metadata": {},
   "outputs": [
    {
     "data": {
      "text/plain": [
       "user_id\n",
       "254       9.0\n",
       "2276      0.0\n",
       "2766      0.0\n",
       "2977      0.0\n",
       "3363      0.0\n",
       "         ... \n",
       "275970    9.0\n",
       "277427    0.0\n",
       "277478    0.0\n",
       "277639    0.0\n",
       "278418    0.0\n",
       "Name: Harry Potter and the Sorcerer's Stone (Book 1), Length: 888, dtype: float64"
      ]
     },
     "execution_count": 25,
     "metadata": {},
     "output_type": "execute_result"
    }
   ],
   "source": [
    "book_pivot.iloc[241,:]"
   ]
  },
  {
   "cell_type": "code",
   "execution_count": 26,
   "id": "ea7a7fac-30f0-4e26-9dac-a656f8e461f2",
   "metadata": {},
   "outputs": [
    {
     "name": "stdout",
     "output_type": "stream",
     "text": [
      "Index(['Harry Potter and the Chamber of Secrets (Book 2)',\n",
      "       'Harry Potter and the Goblet of Fire (Book 4)',\n",
      "       'Harry Potter and the Prisoner of Azkaban (Book 3)',\n",
      "       'Harry Potter and the Sorcerer's Stone (Book 1)', 'Exclusive',\n",
      "       'The Cradle Will Fall'],\n",
      "      dtype='object', name='title')\n"
     ]
    }
   ],
   "source": [
    "for i in range(len(suggestion)):\n",
    "    print(book_pivot.index[suggestion[i]])"
   ]
  },
  {
   "cell_type": "code",
   "execution_count": 27,
   "id": "d6adbba9-d08c-42f9-b8f0-85684bdb7e2e",
   "metadata": {},
   "outputs": [
    {
     "data": {
      "text/plain": [
       "'4 Blondes'"
      ]
     },
     "execution_count": 27,
     "metadata": {},
     "output_type": "execute_result"
    }
   ],
   "source": [
    "book_pivot.index[3]"
   ]
  },
  {
   "cell_type": "code",
   "execution_count": 28,
   "id": "64d536c5-777d-4db7-bf88-32814cf38737",
   "metadata": {},
   "outputs": [
    {
     "data": {
      "text/plain": [
       "3"
      ]
     },
     "execution_count": 28,
     "metadata": {},
     "output_type": "execute_result"
    }
   ],
   "source": [
    "#keeping books name\n",
    "book_names = book_pivot.index\n",
    "np.where(book_pivot.index == '4 Blondes')[0][0]"
   ]
  },
  {
   "cell_type": "code",
   "execution_count": 29,
   "id": "857e5e3f-3d72-4d93-b337-b0dac9308c25",
   "metadata": {},
   "outputs": [],
   "source": [
    "import pickle\n",
    "pickle.dump(model,open('artifacts/model.pkl','wb'))\n",
    "pickle.dump(book_names,open('artifacts/book_names.pkl','wb'))\n",
    "pickle.dump(final_rating,open('artifacts/final_rating.pkl','wb'))\n",
    "pickle.dump(book_pivot,open('artifacts/book_pivot.pkl','wb'))"
   ]
  },
  {
   "cell_type": "code",
   "execution_count": 30,
   "id": "398ea2aa-fa04-4289-9800-27991cf5fb19",
   "metadata": {},
   "outputs": [],
   "source": [
    "def recommend_book(book_name):\n",
    "    book_id = np.where(book_pivot.index == book_name)[0][0]\n",
    "    distance, suggestion = model.kneighbors(book_pivot.iloc[book_id,:].values.reshape(1,-1), n_neighbors=6 )\n",
    "    \n",
    "    for i in range(len(suggestion)):\n",
    "            books = book_pivot.index[suggestion[i]]\n",
    "            for j in books:\n",
    "                if j == book_name:\n",
    "                    print(f\"You searched '{book_name}'\\n\")\n",
    "                    print(\"The suggestion books are: \\n\")\n",
    "                else:\n",
    "                    print(j)"
   ]
  },
  {
   "cell_type": "markdown",
   "id": "e8e91732-3d3c-489c-aef6-1f1be19e6006",
   "metadata": {},
   "source": [
    " TF-IDF Content-based Filtering "
   ]
  },
  {
   "cell_type": "code",
   "execution_count": 32,
   "id": "a04f1ffe-1d65-48c7-9197-1c1cc1c3c70d",
   "metadata": {},
   "outputs": [],
   "source": [
    "# Import thư viện\n",
    "from sklearn.feature_extraction.text import TfidfVectorizer\n",
    "from sklearn.metrics.pairwise import cosine_similarity\n",
    "\n",
    "# Tạo cột 'combined' để TF-IDF từ title + author\n",
    "books['combined'] = books['title'] + \" \" + books['author']"
   ]
  },
  {
   "cell_type": "code",
   "execution_count": 37,
   "id": "842ab5fc-9d5e-4eb8-8571-c5e910b80200",
   "metadata": {},
   "outputs": [],
   "source": [
    "# Dùng final_rating\n",
    "books_tfidf = books[books['title'].isin(final_rating['title'].unique())].reset_index(drop=True)\n",
    "\n",
    "# Xử lý NaN trước khi ghép\n",
    "books['title'] = books['title'].fillna('')\n",
    "books['author'] = books['author'].fillna('')\n",
    "\n",
    "# Tạo cột combined\n",
    "books['combined'] = books['title'] + \" \" + books['author']"
   ]
  },
  {
   "cell_type": "code",
   "execution_count": 38,
   "id": "d62d42c6-1e4c-41d2-88d7-2ba9eedd4f25",
   "metadata": {},
   "outputs": [
    {
     "name": "stdout",
     "output_type": "stream",
     "text": [
      "TF-IDF Matrix shape: (2597, 1962)\n",
      "Cosine similarity matrix shape: (2597, 2597)\n"
     ]
    }
   ],
   "source": [
    "# TF-IDF\n",
    "tfidf = TfidfVectorizer(stop_words='english')\n",
    "tfidf_matrix = tfidf.fit_transform(books_tfidf['combined'])\n",
    "\n",
    "# Now cosine_similarity will be much smaller\n",
    "cosine_sim = cosine_similarity(tfidf_matrix)\n",
    "\n",
    "print(\"TF-IDF Matrix shape:\", tfidf_matrix.shape)\n",
    "print(\"Cosine similarity matrix shape:\", cosine_sim.shape)"
   ]
  },
  {
   "cell_type": "code",
   "execution_count": 44,
   "id": "8c492cae-2dee-4181-a6e2-aa76bb111716",
   "metadata": {},
   "outputs": [],
   "source": [
    "def recommend_content(book_title, top_n=5):\n",
    "    # Lấy index của sách cần tìm\n",
    "    idx = books_tfidf[books_tfidf['title'] == book_title].index[0]\n",
    "\n",
    "    \n",
    "    # Tính similarity score\n",
    "    sim_scores = list(enumerate(cosine_sim[idx]))\n",
    "    \n",
    "    # Sắp xếp giảm dần theo độ similarity\n",
    "    sim_scores = sorted(sim_scores, key=lambda x: x[1], reverse=True)\n",
    "    \n",
    "    # Lấy top_n sách tương tự nhất (loại bỏ chính nó)\n",
    "    sim_scores = sim_scores[1:top_n+1]\n",
    "    \n",
    "    # Lấy index sách tương tự\n",
    "    book_indices = [i[0] for i in sim_scores]\n",
    "    \n",
    "    # Trả về danh sách tên sách\n",
    "    return books['title'].iloc[book_indices]\n"
   ]
  },
  {
   "cell_type": "code",
   "execution_count": 45,
   "id": "c2ac0844-22bb-4985-9670-3702fbd844a4",
   "metadata": {},
   "outputs": [
    {
     "name": "stdout",
     "output_type": "stream",
     "text": [
      "1871                              Flesh and Blood\n",
      "2211    Emotional Purity : An Affair of the Heart\n",
      "0                             Classical Mythology\n",
      "1                                    Clara Callan\n",
      "2                            Decision in Normandy\n",
      "Name: title, dtype: object\n"
     ]
    }
   ],
   "source": [
    "print(recommend_content('4 Blondes'))"
   ]
  },
  {
   "cell_type": "markdown",
   "id": "082a6d7d-5c66-4fe1-b118-7dbab73f5321",
   "metadata": {},
   "source": [
    "Clustering (KMeans)"
   ]
  },
  {
   "cell_type": "code",
   "execution_count": 46,
   "id": "b16aae96-0e1d-4c58-9168-1f3fc14f759b",
   "metadata": {},
   "outputs": [
    {
     "name": "stdout",
     "output_type": "stream",
     "text": [
      "                   title  cluster\n",
      "0                   1984        1\n",
      "1    1st to Die: A Novel        1\n",
      "2             2nd Chance        1\n",
      "3              4 Blondes        1\n",
      "4  84 Charing Cross Road        1\n"
     ]
    },
    {
     "name": "stderr",
     "output_type": "stream",
     "text": [
      "D:\\Anaconda\\Lib\\site-packages\\sklearn\\cluster\\_kmeans.py:1429: UserWarning: KMeans is known to have a memory leak on Windows with MKL, when there are less chunks than available threads. You can avoid it by setting the environment variable OMP_NUM_THREADS=3.\n",
      "  warnings.warn(\n"
     ]
    }
   ],
   "source": [
    "from sklearn.cluster import KMeans\n",
    "\n",
    "kmeans = KMeans(n_clusters=5, random_state=42)\n",
    "clusters = kmeans.fit_predict(book_pivot)\n",
    "\n",
    "# Thêm cluster vào index:\n",
    "book_clusters = pd.DataFrame({'title': book_pivot.index, 'cluster': clusters})\n",
    "print(book_clusters.head())"
   ]
  },
  {
   "cell_type": "code",
   "execution_count": 47,
   "id": "10ea91f9-4324-4029-9cf5-a530b38b387e",
   "metadata": {},
   "outputs": [],
   "source": [
    "import pickle\n",
    "import os\n",
    "pickle.dump(cosine_sim, open('artifacts/cosine_sim.pkl', 'wb'))\n",
    "pickle.dump(books, open('artifacts/books.pkl', 'wb'))\n",
    "pickle.dump(book_clusters, open('artifacts/book_clusters.pkl', 'wb'))"
   ]
  },
  {
   "cell_type": "code",
   "execution_count": 48,
   "id": "bb820903-18f9-43f3-841d-349938559ff1",
   "metadata": {},
   "outputs": [],
   "source": [
    "pickle.dump(books_tfidf, open('artifacts/books_tfidf.pkl', 'wb'))"
   ]
  },
  {
   "cell_type": "code",
   "execution_count": null,
   "id": "1244e72e-107e-4fd3-b540-3cd31f77a905",
   "metadata": {},
   "outputs": [],
   "source": []
  }
 ],
 "metadata": {
  "kernelspec": {
   "display_name": "Python [conda env:base] *",
   "language": "python",
   "name": "conda-base-py"
  },
  "language_info": {
   "codemirror_mode": {
    "name": "ipython",
    "version": 3
   },
   "file_extension": ".py",
   "mimetype": "text/x-python",
   "name": "python",
   "nbconvert_exporter": "python",
   "pygments_lexer": "ipython3",
   "version": "3.12.7"
  }
 },
 "nbformat": 4,
 "nbformat_minor": 5
}
