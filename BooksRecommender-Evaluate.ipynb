{
 "cells": [
  {
   "cell_type": "code",
   "execution_count": 1,
   "id": "a3ca9117-b947-433a-803f-bd29b1cbee33",
   "metadata": {},
   "outputs": [],
   "source": [
    "# Import thư viện\n",
    "import pandas as pd\n",
    "import numpy as np\n",
    "import pickle\n",
    "from sklearn.metrics import mean_squared_error, mean_absolute_error\n",
    "from sklearn.metrics.pairwise import cosine_similarity\n",
    "\n",
    "# Load model & data\n",
    "model = pickle.load(open('artifacts/model.pkl','rb'))\n",
    "books_tfidf = pickle.load(open('artifacts/books_tfidf.pkl','rb'))\n",
    "book_names = pickle.load(open('artifacts/book_names.pkl','rb'))\n",
    "final_rating = pickle.load(open('artifacts/final_rating.pkl','rb'))\n",
    "book_pivot = pickle.load(open('artifacts/book_pivot.pkl','rb'))\n",
    "cosine_sim = pickle.load(open('artifacts/cosine_sim.pkl','rb'))\n",
    "books = pickle.load(open('artifacts/books.pkl','rb'))\n",
    "book_clusters = pickle.load(open('artifacts/book_clusters.pkl','rb'))\n"
   ]
  },
  {
   "cell_type": "code",
   "execution_count": 2,
   "id": "1fd5deee-da7c-4360-a40d-a472b08e3dcf",
   "metadata": {},
   "outputs": [
    {
     "name": "stdout",
     "output_type": "stream",
     "text": [
      "RMSE: 0.1557\n",
      "MAE: 0.1290\n"
     ]
    }
   ],
   "source": [
    "# Evaluate Item-based CF (KNN)\n",
    "\n",
    "# Chọn ngẫu nhiên 100 sách\n",
    "test_books_idx = np.random.choice(len(book_pivot), size=100, replace=False)\n",
    "\n",
    "true_ratings = []\n",
    "pred_ratings = []\n",
    "\n",
    "for idx in test_books_idx:\n",
    "    # Vector sách\n",
    "    book_vector = book_pivot.iloc[idx,:].values.reshape(1,-1)\n",
    "    distance, suggestion = model.kneighbors(book_vector, n_neighbors=6)\n",
    "    \n",
    "    # Dự đoán = rating trung bình của neighbors\n",
    "    neighbors_idx = suggestion[0][1:]  # bỏ chính nó\n",
    "    pred_rating = book_pivot.iloc[neighbors_idx,:].mean().mean()\n",
    "    \n",
    "    # Rating thật = trung bình rating sách đó\n",
    "    true_rating = book_pivot.iloc[idx,:].mean()\n",
    "    \n",
    "    pred_ratings.append(pred_rating)\n",
    "    true_ratings.append(true_rating)\n",
    "\n",
    "# Tính RMSE và MAE\n",
    "rmse = np.sqrt(mean_squared_error(true_ratings, pred_ratings))\n",
    "mae = mean_absolute_error(true_ratings, pred_ratings)\n",
    "\n",
    "print(f\"RMSE: {rmse:.4f}\")\n",
    "print(f\"MAE: {mae:.4f}\")\n"
   ]
  },
  {
   "cell_type": "code",
   "execution_count": 3,
   "id": "539fb192-d8a4-4991-a1a8-9ffe86a8db2f",
   "metadata": {},
   "outputs": [
    {
     "name": "stdout",
     "output_type": "stream",
     "text": [
      "Precision@5: 0.7900\n"
     ]
    }
   ],
   "source": [
    "# Evaluate Content-based TF-IDF\n",
    "\n",
    "# Lấy 100 sách test\n",
    "test_books = np.random.choice(books_tfidf['title'].unique(), size=100, replace=False)\n",
    "\n",
    "correct = 0\n",
    "total = len(test_books)\n",
    "\n",
    "def recommend_content(book_title, top_n=5):\n",
    "    idx = books_tfidf[books_tfidf['title'] == book_title].index[0]\n",
    "    sim_scores = list(enumerate(cosine_sim[idx]))\n",
    "    sim_scores = sorted(sim_scores, key=lambda x: x[1], reverse=True)\n",
    "    sim_scores = sim_scores[1:top_n+1]\n",
    "    book_indices = [i[0] for i in sim_scores]\n",
    "    return books_tfidf['title'].iloc[book_indices]\n",
    "\n",
    "# Kiểm tra Precision@5\n",
    "for book in test_books:\n",
    "    try:\n",
    "        recommended = recommend_content(book, top_n=5)\n",
    "        if book in recommended.values:\n",
    "            correct += 1\n",
    "    except:\n",
    "        pass  # có thể 1 số sách lỗi index\n",
    "\n",
    "precision_at_5 = correct / total\n",
    "print(f\"Precision@5: {precision_at_5:.4f}\")\n"
   ]
  },
  {
   "cell_type": "code",
   "execution_count": null,
   "id": "e40dd58a-15fa-4711-a47e-a58ebd062be6",
   "metadata": {},
   "outputs": [],
   "source": []
  }
 ],
 "metadata": {
  "kernelspec": {
   "display_name": "Python [conda env:base] *",
   "language": "python",
   "name": "conda-base-py"
  },
  "language_info": {
   "codemirror_mode": {
    "name": "ipython",
    "version": 3
   },
   "file_extension": ".py",
   "mimetype": "text/x-python",
   "name": "python",
   "nbconvert_exporter": "python",
   "pygments_lexer": "ipython3",
   "version": "3.12.7"
  }
 },
 "nbformat": 4,
 "nbformat_minor": 5
}
